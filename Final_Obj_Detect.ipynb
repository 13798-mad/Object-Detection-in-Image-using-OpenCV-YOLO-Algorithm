{
 "cells": [
  {
   "cell_type": "code",
   "execution_count": null,
   "id": "ea148a3a-477e-4d24-a078-bef139be08a2",
   "metadata": {},
   "outputs": [
    {
     "name": "stderr",
     "output_type": "stream",
     "text": [
      "2024-09-08 16:10:20.090 Python[2911:135374] WARNING: Secure coding is not enabled for restorable state! Enable secure coding by implementing NSApplicationDelegate.applicationSupportsSecureRestorableState: and returning YES.\n"
     ]
    }
   ],
   "source": [
    "import cv2\n",
    "import numpy as np\n",
    "\n",
    "# Load YOLO\n",
    "net = cv2.dnn.readNet(\"yolov3.weights\", \"yolov3.cfg\")\n",
    "\n",
    "# Get output layer names\n",
    "unconnected_out_layers = net.getUnconnectedOutLayers()\n",
    "layer_names = net.getLayerNames()\n",
    "output_layers = [layer_names[i - 1] for i in unconnected_out_layers.flatten()]\n",
    "\n",
    "# Load COCO class labels\n",
    "with open(\"coco.names\", \"r\") as f:\n",
    "    classes = [line.strip() for line in f.readlines()]\n",
    "\n",
    "# Load and preprocess the image\n",
    "img = cv2.imread(\"mmm.png\")\n",
    "img = cv2.resize(img, None, fx=0.4, fy=0.4)\n",
    "height, width, channels = img.shape\n",
    "\n",
    "# Prepare the image for YOLO\n",
    "blob = cv2.dnn.blobFromImage(img, 0.00392, (416, 416), (0, 0, 0), True, crop=False)\n",
    "net.setInput(blob)\n",
    "outs = net.forward(output_layers)\n",
    "\n",
    "class_ids = []\n",
    "boxes = []\n",
    "confidences = []\n",
    "\n",
    "for out in outs:\n",
    "    for detection in out:\n",
    "        detection = np.array(detection)\n",
    "\n",
    "        if len(detection.shape) == 1: \n",
    "            detection = np.expand_dims(detection, axis=0)\n",
    "        \n",
    "        for obj in detection:\n",
    "            if obj.ndim != 1:\n",
    "                print(f\"Skipping object due to unexpected ndim: {obj.ndim}\")\n",
    "                continue\n",
    "\n",
    "            if obj.size < 5:\n",
    "                print(\"Object size is smaller than expected\")\n",
    "                continue\n",
    "\n",
    "            scores = obj[5:]\n",
    "            class_id = np.argmax(scores)\n",
    "            confidence = scores[class_id]\n",
    "            if confidence > 0.5:\n",
    "                center_x = int(obj[0] * width)\n",
    "                center_y = int(obj[1] * height)\n",
    "                w = int(obj[2] * width)\n",
    "                h = int(obj[3] * height)\n",
    "                x = int(center_x - w / 2)\n",
    "                y = int(center_y - h / 2)\n",
    "                boxes.append([x, y, w, h])\n",
    "                confidences.append(float(confidence))\n",
    "                class_ids.append(class_id)\n",
    "\n",
    "#To reduce duplicated boxes\n",
    "indices = cv2.dnn.NMSBoxes(boxes, confidences, 0.5, 0.4)\n",
    "\n",
    "# Draw bounding boxes and labels on the image\n",
    "font = cv2.FONT_HERSHEY_PLAIN\n",
    "\n",
    "for i in indices.flatten():\n",
    "    x, y, w, h = boxes[i]\n",
    "    label = str(classes[class_ids[i]])\n",
    "    cv2.rectangle(img, (x, y), (x + w, y + h), (0, 255, 0), 2)\n",
    "    cv2.putText(img, label, (x, y + 30), font, 1, (255, 255, 255), 2)\n",
    "\n",
    "# Display the image\n",
    "cv2.imshow(\"image\", img)\n",
    "cv2.waitKey(0)\n",
    "cv2.destroyAllWindows()\n"
   ]
  },
  {
   "cell_type": "code",
   "execution_count": null,
   "id": "93cbc458-3013-4fd4-8811-298b87117401",
   "metadata": {},
   "outputs": [],
   "source": []
  }
 ],
 "metadata": {
  "kernelspec": {
   "display_name": "Python 3 (ipykernel)",
   "language": "python",
   "name": "python3"
  },
  "language_info": {
   "codemirror_mode": {
    "name": "ipython",
    "version": 3
   },
   "file_extension": ".py",
   "mimetype": "text/x-python",
   "name": "python",
   "nbconvert_exporter": "python",
   "pygments_lexer": "ipython3",
   "version": "3.12.4"
  }
 },
 "nbformat": 4,
 "nbformat_minor": 5
}
